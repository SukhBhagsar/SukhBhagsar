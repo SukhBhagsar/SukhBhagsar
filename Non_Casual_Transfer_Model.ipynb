{
  "nbformat": 4,
  "nbformat_minor": 0,
  "metadata": {
    "colab": {
      "provenance": [],
      "authorship_tag": "ABX9TyMctyPVbCkMeQFv9tdpLqYA",
      "include_colab_link": true
    },
    "kernelspec": {
      "name": "python3",
      "display_name": "Python 3"
    },
    "language_info": {
      "name": "python"
    }
  },
  "cells": [
    {
      "cell_type": "markdown",
      "metadata": {
        "id": "view-in-github",
        "colab_type": "text"
      },
      "source": [
        "<a href=\"https://colab.research.google.com/github/SukhBhagsar/SukhBhagsar/blob/main/Non_Casual_Transfer_Model.ipynb\" target=\"_parent\"><img src=\"https://colab.research.google.com/assets/colab-badge.svg\" alt=\"Open In Colab\"/></a>"
      ]
    },
    {
      "cell_type": "code",
      "source": [
        "#loading necessary libraries\n",
        "import nltk\n",
        "import pandas as pd\n",
        "from nltk.stem import PorterStemmer\n",
        "from nltk.corpus import stopwords\n",
        "from nltk.stem import WordNetLemmatizer\n",
        "from collections import Counter\n",
        "from nltk.tokenize import word_tokenize\n",
        "import string\n",
        "from string import punctuation\n",
        "import matplotlib.pyplot as plt\n",
        "import numpy as np\n",
        "import re\n",
        "import seaborn as sns\n",
        "from sklearn.metrics import confusion_matrix\n",
        "from sklearn.model_selection import train_test_split\n",
        "from sklearn.feature_extraction.text import TfidfVectorizer\n",
        "from sklearn.metrics import classification_report\n",
        "from sklearn.naive_bayes import MultinomialNB\n",
        "import nltk\n",
        "from nltk.corpus import stopwords\n",
        "from nltk.tokenize import word_tokenize\n",
        "import string\n",
        "import os\n",
        "import pandas as pd\n",
        "from zipfile import ZipFile\n",
        "from io import BytesIO"
      ],
      "metadata": {
        "id": "Vo6EtQr1Bjkw"
      },
      "execution_count": 15,
      "outputs": []
    },
    {
      "cell_type": "code",
      "source": [
        "nltk.download('punkt')\n",
        "nltk.download('wordnet')\n",
        "nltk.download('stopwords')"
      ],
      "metadata": {
        "colab": {
          "base_uri": "https://localhost:8080/"
        },
        "id": "qwBDRmkxBjao",
        "outputId": "4ca3a018-1b99-4007-be84-8cbefe86c343"
      },
      "execution_count": 37,
      "outputs": [
        {
          "output_type": "stream",
          "name": "stderr",
          "text": [
            "[nltk_data] Downloading package punkt to /root/nltk_data...\n",
            "[nltk_data]   Unzipping tokenizers/punkt.zip.\n",
            "[nltk_data] Downloading package wordnet to /root/nltk_data...\n",
            "[nltk_data] Downloading package stopwords to /root/nltk_data...\n",
            "[nltk_data]   Unzipping corpora/stopwords.zip.\n"
          ]
        },
        {
          "output_type": "execute_result",
          "data": {
            "text/plain": [
              "True"
            ]
          },
          "metadata": {},
          "execution_count": 37
        }
      ]
    },
    {
      "cell_type": "code",
      "execution_count": 18,
      "metadata": {
        "colab": {
          "base_uri": "https://localhost:8080/"
        },
        "id": "F40GtQYMzI4G",
        "outputId": "0ff50146-936c-4d8a-e706-5ab698765654"
      },
      "outputs": [
        {
          "output_type": "stream",
          "name": "stdout",
          "text": [
            "Drive already mounted at /content/drive; to attempt to forcibly remount, call drive.mount(\"/content/drive\", force_remount=True).\n"
          ]
        }
      ],
      "source": [
        "from google.colab import drive\n",
        "drive.mount('/content/drive')\n",
        "\n",
        "dataset = '/content/topic_detect_final.zip'"
      ]
    },
    {
      "cell_type": "code",
      "source": [
        "import os\n",
        "import pandas as pd\n",
        "from zipfile import ZipFile\n",
        "from io import BytesIO"
      ],
      "metadata": {
        "id": "MDTMlKWs8R59"
      },
      "execution_count": 20,
      "outputs": []
    },
    {
      "cell_type": "code",
      "source": [
        "# Applying function to read text file\n",
        "def text_files(folder_data):\n",
        "    text_data = []\n",
        "    for file_name in os.listdir(folder_data):\n",
        "        if file_name.endswith('.txt'):\n",
        "            with open(os.path.join(folder_data, file_name), 'r', encoding='utf-8') as file:\n",
        "                content = file.read()\n",
        "                identifier = file_name[:-4]\n",
        "                text_data.append({'identifier': identifier, 'content': content})\n",
        "    return pd.DataFrame(text_data)"
      ],
      "metadata": {
        "id": "KEwnM4hs8XP5"
      },
      "execution_count": 24,
      "outputs": []
    },
    {
      "cell_type": "code",
      "source": [
        "# Obtaining the zip file\n",
        "zip_file_name = list(uploaded.keys())[0]\n",
        "zip_file = BytesIO(uploaded[zip_file_name])"
      ],
      "metadata": {
        "id": "1V6z4LFl9o3L"
      },
      "execution_count": 26,
      "outputs": []
    },
    {
      "cell_type": "code",
      "source": [
        "# Opening the zip file\n",
        "with ZipFile(zip_file, 'r') as zip_ref:\n",
        "    zip_ref.extractall(\"/content/extracted_files\")"
      ],
      "metadata": {
        "id": "-qVbifY1-FSv"
      },
      "execution_count": 27,
      "outputs": []
    },
    {
      "cell_type": "code",
      "source": [
        "# Showing the Excel file path\n",
        "excel_data_file = \"/content/extracted_files/topic_detect/topics.xlsx\""
      ],
      "metadata": {
        "id": "i3WwGlUg-O76"
      },
      "execution_count": 29,
      "outputs": []
    },
    {
      "cell_type": "code",
      "source": [
        "# Reading the Excel file into a DataFrame\n",
        "excel_dataframe = pd.read_excel(excel_data_file)"
      ],
      "metadata": {
        "id": "knqXjsVd-nN2"
      },
      "execution_count": 30,
      "outputs": []
    },
    {
      "cell_type": "code",
      "source": [
        "# Getting the folder path containing text files\n",
        "text_folder_data = \"/content/extracted_files/topic_detect/text\""
      ],
      "metadata": {
        "id": "QzGQ7Ohm--_e"
      },
      "execution_count": 31,
      "outputs": []
    },
    {
      "cell_type": "code",
      "source": [
        "# Loading text files from the folder\n",
        "text_dataframe = text_files(text_folder_data)"
      ],
      "metadata": {
        "id": "Al4Il54g_JA8"
      },
      "execution_count": 32,
      "outputs": []
    },
    {
      "cell_type": "code",
      "source": [
        "# Merging the text data with the metadata DataFrame\n",
        "merged_dataframe = pd.merge(excel_dataframe, text_dataframe, how='left', left_on='content', right_on='identifier')\n",
        "print(merged_dataframe.head())"
      ],
      "metadata": {
        "colab": {
          "base_uri": "https://localhost:8080/"
        },
        "id": "y-zfAZKx_UhF",
        "outputId": "4dfd7219-7333-4b08-9d4d-5eacaa55d16c"
      },
      "execution_count": 35,
      "outputs": [
        {
          "output_type": "stream",
          "name": "stdout",
          "text": [
            "                                               title  \\\n",
            "0  Mitsubishi Motors Co. (OTCMKTS:MMTOF) Short In...   \n",
            "1  Juventus off the hook! Bianconeri set to have ...   \n",
            "2  Dodgers ponder shortstop for Betts after pater...   \n",
            "3  Meta lays off tech teams, battering employee m...   \n",
            "4  FDA clears extra COVID booster for some high-r...   \n",
            "\n",
            "                                           content_x  content_word_count  \\\n",
            "0  29c9689e5ed81852967ff964f16be109a37dd9ecb1f5c9...               221.0   \n",
            "1  b9e3313535ffdbc2fe198572f17ce61330980dfab64324...               225.0   \n",
            "2  2e7bdbd8a033973c2309948b0b1b9de02bf7491e7b464c...               389.0   \n",
            "3  d4e3c5c938a4c636d40cac488f32cda1cdc02c6372a5f9...               379.0   \n",
            "4  cfd7f633608c252af099ccb7f4a5a02eed9e7c68efe6fb...               856.0   \n",
            "\n",
            "        published_date          created_at          updated_at language  \\\n",
            "0  2023-04-19 07:26:42 2023-04-19 07:37:59 2023-04-19 07:37:59       en   \n",
            "1  2023-04-19 06:23:09 2023-04-19 06:44:04 2023-04-19 07:49:41       en   \n",
            "2  2023-04-18 00:00:00 2023-04-19 06:39:02 2023-04-19 06:39:02       en   \n",
            "3  2023-04-19 05:27:00 2023-04-19 06:04:15 2023-04-19 07:00:26       en   \n",
            "4  2023-04-18 02:25:12 2023-04-19 11:01:10 2023-04-19 11:01:10       en   \n",
            "\n",
            "                                       article_links  total_share_count  \\\n",
            "0  ['https://www.marketbeat.com/stocks/OTCMKTS/MM...                0.0   \n",
            "1  ['https://www.gazzetta.it/Calcio/Serie-A/Juven...                0.0   \n",
            "2                                                NaN                0.0   \n",
            "3  ['/', '/news/most-popular-news', '/news/econom...                1.0   \n",
            "4  ['https://abcnews.go.com/alerts/Vaccinations',...                0.0   \n",
            "\n",
            "   keywords_status  ... quote meme  give_away  quiz cities_and_states  \\\n",
            "0              1.0  ...   0.0  0.0        0.0   0.0               NaN   \n",
            "1              1.0  ...   0.0  0.0        0.0   0.0               NaN   \n",
            "2              1.0  ...   0.0  0.0        0.0   0.0               NaN   \n",
            "3              1.0  ...   0.0  0.0        0.0   0.0               NaN   \n",
            "4              1.0  ...   0.0  0.0        0.0   0.0    ['washington']   \n",
            "\n",
            "            countries                                      geo_locations  \\\n",
            "0                 NaN                                                NaN   \n",
            "1                 NaN                                                NaN   \n",
            "2                 NaN                                                NaN   \n",
            "3                 NaN                                                NaN   \n",
            "4  ['united kingdom']  [{'country': 'GB', 'coordinates': [-1.51667, 5...   \n",
            "\n",
            "        topic  identifier  content_y  \n",
            "0    business         NaN        NaN  \n",
            "1      sports         NaN        NaN  \n",
            "2      sports         NaN        NaN  \n",
            "3  technology         NaN        NaN  \n",
            "4      health         NaN        NaN  \n",
            "\n",
            "[5 rows x 32 columns]\n"
          ]
        }
      ]
    },
    {
      "cell_type": "code",
      "source": [
        "# Check the first few documents in the DataFrame\n",
        "print(merged_dataframe['content_y'].head())\n"
      ],
      "metadata": {
        "colab": {
          "base_uri": "https://localhost:8080/"
        },
        "id": "iQEioQLaCII3",
        "outputId": "eee39827-521c-4af1-94b6-8aa6e37a0db5"
      },
      "execution_count": 41,
      "outputs": [
        {
          "output_type": "stream",
          "name": "stdout",
          "text": [
            "Series([], Name: content_y, dtype: object)\n"
          ]
        }
      ]
    },
    {
      "cell_type": "code",
      "source": [
        "# Inspect the DataFrame to check for any issues with the 'content_y' column\n",
        "print(merged_dataframe.info())\n",
        "print(merged_dataframe['content_y'].head())\n"
      ],
      "metadata": {
        "colab": {
          "base_uri": "https://localhost:8080/"
        },
        "id": "Ryq4e_bDCYtA",
        "outputId": "15772e1d-1d3a-417a-963f-93335bf5339e"
      },
      "execution_count": 42,
      "outputs": [
        {
          "output_type": "stream",
          "name": "stdout",
          "text": [
            "<class 'pandas.core.frame.DataFrame'>\n",
            "RangeIndex: 0 entries\n",
            "Data columns (total 32 columns):\n",
            " #   Column              Non-Null Count  Dtype         \n",
            "---  ------              --------------  -----         \n",
            " 0   title               0 non-null      object        \n",
            " 1   content_x           0 non-null      object        \n",
            " 2   content_word_count  0 non-null      float64       \n",
            " 3   published_date      0 non-null      object        \n",
            " 4   created_at          0 non-null      datetime64[ns]\n",
            " 5   updated_at          0 non-null      datetime64[ns]\n",
            " 6   language            0 non-null      object        \n",
            " 7   article_links       0 non-null      object        \n",
            " 8   total_share_count   0 non-null      float64       \n",
            " 9   keywords_status     0 non-null      float64       \n",
            " 10  keywords            0 non-null      object        \n",
            " 11  entities            0 non-null      object        \n",
            " 12  sentiment           0 non-null      float64       \n",
            " 13  title_sentiment     0 non-null      float64       \n",
            " 14  keywords_ex         0 non-null      object        \n",
            " 15  infographic         0 non-null      float64       \n",
            " 16  case_study          0 non-null      float64       \n",
            " 17  review              0 non-null      float64       \n",
            " 18  video               0 non-null      float64       \n",
            " 19  podcast             0 non-null      float64       \n",
            " 20  webinar             0 non-null      float64       \n",
            " 21  interview           0 non-null      float64       \n",
            " 22  quote               0 non-null      float64       \n",
            " 23  meme                0 non-null      float64       \n",
            " 24  give_away           0 non-null      float64       \n",
            " 25  quiz                0 non-null      float64       \n",
            " 26  cities_and_states   0 non-null      object        \n",
            " 27  countries           0 non-null      object        \n",
            " 28  geo_locations       0 non-null      object        \n",
            " 29  topic               0 non-null      object        \n",
            " 30  identifier          0 non-null      object        \n",
            " 31  content_y           0 non-null      object        \n",
            "dtypes: datetime64[ns](2), float64(16), object(14)\n",
            "memory usage: 124.0+ bytes\n",
            "None\n",
            "Series([], Name: content_y, dtype: object)\n"
          ]
        }
      ]
    },
    {
      "cell_type": "code",
      "source": [
        "import os\n",
        "from io import BytesIO\n",
        "from zipfile import ZipFile\n",
        "import pandas as pd\n",
        "import numpy as np\n",
        "from sklearn.model_selection import train_test_split\n",
        "from sklearn.preprocessing import LabelEncoder\n",
        "from keras.preprocessing.text import Tokenizer\n",
        "from keras.preprocessing.sequence import pad_sequences\n",
        "from keras.models import Sequential\n",
        "from keras.layers import Embedding, LSTM, Dense\n",
        "\n",
        "# Preprocessing text Data\n",
        "def text_files(folder_data):\n",
        "    text_data = []\n",
        "    for file_name in os.listdir(folder_data):\n",
        "        if file_name.endswith('.txt'):\n",
        "            with open(os.path.join(folder_data, file_name), 'r', encoding='utf-8') as file:\n",
        "                content = file.read()\n",
        "                identifier = file_name[:-4]\n",
        "                text_data.append({'identifier': identifier, 'content': content})\n",
        "    return pd.DataFrame(text_data)\n",
        "\n",
        "# Loading and Processing Data\n",
        "from google.colab import files\n",
        "\n",
        "uploaded = files.upload()  # Uploading the zip file\n",
        "\n",
        "zip_file_name = list(uploaded.keys())[0]\n",
        "zip_file = BytesIO(uploaded[zip_file_name])\n",
        "\n",
        "with ZipFile(zip_file, 'r') as zip_ref:\n",
        "    zip_ref.extractall(\"/content/extracted_files\")\n",
        "\n",
        "# Reading excel data file\n",
        "excel_data_file = \"/content/extracted_files/topic_detect/topics.xlsx\"\n",
        "excel_dataframe = pd.read_excel(excel_data_file)\n",
        "\n",
        "# Loading text data\n",
        "text_folder_data = \"/content/extracted_files/topic_detect/text\"\n",
        "text_dataframe = text_files(text_folder_data)\n",
        "\n",
        "# Merging text data with metadata DataFrame\n",
        "merged_dataframe = pd.merge(excel_dataframe, text_dataframe, how='left', left_on='content', right_on='identifier')\n",
        "\n",
        "#  Preprocessing text Data\n",
        "text_data = merged_dataframe['content_x'].astype(str)\n",
        "labels = merged_dataframe['topic']\n",
        "\n",
        "# Applying Tokenization\n",
        "tokenizer = Tokenizer()\n",
        "tokenizer.fit_on_texts(text_data)\n",
        "sequences = tokenizer.texts_to_sequences(text_data)\n",
        "word_index = tokenizer.word_index\n",
        "\n",
        "# Padding sequences\n",
        "max_sequence_length = 1000\n",
        "data = pad_sequences(sequences, maxlen=max_sequence_length)\n",
        "\n",
        "# Loading Pre-trained GloVe Embeddings\n",
        "embedding_dim = 100\n",
        "glove_file = '/content/.vector_cache/glove.6B.100d.txt'\n",
        "\n",
        "embeddings_index = {}\n",
        "with open(glove_file, encoding='utf-8') as f:\n",
        "    for line in f:\n",
        "        values = line.split()\n",
        "        word = values[0]\n",
        "        coefs = np.asarray(values[1:], dtype='float32')\n",
        "        embeddings_index[word] = coefs\n",
        "\n",
        "embedding_matrix = np.zeros((len(word_index) + 1, embedding_dim))\n",
        "for word, i in word_index.items():\n",
        "    embedding_vector = embeddings_index.get(word)\n",
        "    if embedding_vector is not None:\n",
        "        embedding_matrix[i] = embedding_vector\n",
        "\n",
        "# Splitting Data\n",
        "# Encoding labels\n",
        "label_encoder = LabelEncoder()\n",
        "encoded_labels = label_encoder.fit_transform(labels)\n",
        "\n",
        "# Splitting the data into training and testing sets\n",
        "X_train, X_test, y_train, y_test = train_test_split(data, encoded_labels, test_size=0.2, random_state=42)\n",
        "\n",
        "# Defining Model\n",
        "model = Sequential()\n",
        "model.add(Embedding(len(word_index) + 1, embedding_dim, weights=[embedding_matrix], input_length=max_sequence_length, trainable=False))\n",
        "model.add(LSTM(128, dropout=0.2, recurrent_dropout=0.2))\n",
        "model.add(Dense(len(set(encoded_labels)), activation='softmax'))\n",
        "\n",
        "# Compiling the model\n",
        "model.compile(loss='sparse_categorical_crossentropy', optimizer='adam', metrics=['accuracy'])\n",
        "\n",
        "# Training the model\n",
        "model.fit(X_train, y_train, batch_size=128, epochs=5, validation_data=(X_test, y_test))\n",
        "\n",
        "# Evaluating the model\n",
        "loss, accuracy = model.evaluate(X_test, y_test)\n",
        "print('Test accuracy:', accuracy)\n"
      ],
      "metadata": {
        "colab": {
          "base_uri": "https://localhost:8080/",
          "height": 308
        },
        "id": "eQpcS91XJInS",
        "outputId": "431124e2-d053-4fe6-efc8-941534b36ae0"
      },
      "execution_count": 1,
      "outputs": [
        {
          "data": {
            "text/html": [
              "\n",
              "     <input type=\"file\" id=\"files-98979571-fbf3-499b-9fd7-b1fa02318e5f\" name=\"files[]\" multiple disabled\n",
              "        style=\"border:none\" />\n",
              "     <output id=\"result-98979571-fbf3-499b-9fd7-b1fa02318e5f\">\n",
              "      Upload widget is only available when the cell has been executed in the\n",
              "      current browser session. Please rerun this cell to enable.\n",
              "      </output>\n",
              "      <script>// Copyright 2017 Google LLC\n",
              "//\n",
              "// Licensed under the Apache License, Version 2.0 (the \"License\");\n",
              "// you may not use this file except in compliance with the License.\n",
              "// You may obtain a copy of the License at\n",
              "//\n",
              "//      http://www.apache.org/licenses/LICENSE-2.0\n",
              "//\n",
              "// Unless required by applicable law or agreed to in writing, software\n",
              "// distributed under the License is distributed on an \"AS IS\" BASIS,\n",
              "// WITHOUT WARRANTIES OR CONDITIONS OF ANY KIND, either express or implied.\n",
              "// See the License for the specific language governing permissions and\n",
              "// limitations under the License.\n",
              "\n",
              "/**\n",
              " * @fileoverview Helpers for google.colab Python module.\n",
              " */\n",
              "(function(scope) {\n",
              "function span(text, styleAttributes = {}) {\n",
              "  const element = document.createElement('span');\n",
              "  element.textContent = text;\n",
              "  for (const key of Object.keys(styleAttributes)) {\n",
              "    element.style[key] = styleAttributes[key];\n",
              "  }\n",
              "  return element;\n",
              "}\n",
              "\n",
              "// Max number of bytes which will be uploaded at a time.\n",
              "const MAX_PAYLOAD_SIZE = 100 * 1024;\n",
              "\n",
              "function _uploadFiles(inputId, outputId) {\n",
              "  const steps = uploadFilesStep(inputId, outputId);\n",
              "  const outputElement = document.getElementById(outputId);\n",
              "  // Cache steps on the outputElement to make it available for the next call\n",
              "  // to uploadFilesContinue from Python.\n",
              "  outputElement.steps = steps;\n",
              "\n",
              "  return _uploadFilesContinue(outputId);\n",
              "}\n",
              "\n",
              "// This is roughly an async generator (not supported in the browser yet),\n",
              "// where there are multiple asynchronous steps and the Python side is going\n",
              "// to poll for completion of each step.\n",
              "// This uses a Promise to block the python side on completion of each step,\n",
              "// then passes the result of the previous step as the input to the next step.\n",
              "function _uploadFilesContinue(outputId) {\n",
              "  const outputElement = document.getElementById(outputId);\n",
              "  const steps = outputElement.steps;\n",
              "\n",
              "  const next = steps.next(outputElement.lastPromiseValue);\n",
              "  return Promise.resolve(next.value.promise).then((value) => {\n",
              "    // Cache the last promise value to make it available to the next\n",
              "    // step of the generator.\n",
              "    outputElement.lastPromiseValue = value;\n",
              "    return next.value.response;\n",
              "  });\n",
              "}\n",
              "\n",
              "/**\n",
              " * Generator function which is called between each async step of the upload\n",
              " * process.\n",
              " * @param {string} inputId Element ID of the input file picker element.\n",
              " * @param {string} outputId Element ID of the output display.\n",
              " * @return {!Iterable<!Object>} Iterable of next steps.\n",
              " */\n",
              "function* uploadFilesStep(inputId, outputId) {\n",
              "  const inputElement = document.getElementById(inputId);\n",
              "  inputElement.disabled = false;\n",
              "\n",
              "  const outputElement = document.getElementById(outputId);\n",
              "  outputElement.innerHTML = '';\n",
              "\n",
              "  const pickedPromise = new Promise((resolve) => {\n",
              "    inputElement.addEventListener('change', (e) => {\n",
              "      resolve(e.target.files);\n",
              "    });\n",
              "  });\n",
              "\n",
              "  const cancel = document.createElement('button');\n",
              "  inputElement.parentElement.appendChild(cancel);\n",
              "  cancel.textContent = 'Cancel upload';\n",
              "  const cancelPromise = new Promise((resolve) => {\n",
              "    cancel.onclick = () => {\n",
              "      resolve(null);\n",
              "    };\n",
              "  });\n",
              "\n",
              "  // Wait for the user to pick the files.\n",
              "  const files = yield {\n",
              "    promise: Promise.race([pickedPromise, cancelPromise]),\n",
              "    response: {\n",
              "      action: 'starting',\n",
              "    }\n",
              "  };\n",
              "\n",
              "  cancel.remove();\n",
              "\n",
              "  // Disable the input element since further picks are not allowed.\n",
              "  inputElement.disabled = true;\n",
              "\n",
              "  if (!files) {\n",
              "    return {\n",
              "      response: {\n",
              "        action: 'complete',\n",
              "      }\n",
              "    };\n",
              "  }\n",
              "\n",
              "  for (const file of files) {\n",
              "    const li = document.createElement('li');\n",
              "    li.append(span(file.name, {fontWeight: 'bold'}));\n",
              "    li.append(span(\n",
              "        `(${file.type || 'n/a'}) - ${file.size} bytes, ` +\n",
              "        `last modified: ${\n",
              "            file.lastModifiedDate ? file.lastModifiedDate.toLocaleDateString() :\n",
              "                                    'n/a'} - `));\n",
              "    const percent = span('0% done');\n",
              "    li.appendChild(percent);\n",
              "\n",
              "    outputElement.appendChild(li);\n",
              "\n",
              "    const fileDataPromise = new Promise((resolve) => {\n",
              "      const reader = new FileReader();\n",
              "      reader.onload = (e) => {\n",
              "        resolve(e.target.result);\n",
              "      };\n",
              "      reader.readAsArrayBuffer(file);\n",
              "    });\n",
              "    // Wait for the data to be ready.\n",
              "    let fileData = yield {\n",
              "      promise: fileDataPromise,\n",
              "      response: {\n",
              "        action: 'continue',\n",
              "      }\n",
              "    };\n",
              "\n",
              "    // Use a chunked sending to avoid message size limits. See b/62115660.\n",
              "    let position = 0;\n",
              "    do {\n",
              "      const length = Math.min(fileData.byteLength - position, MAX_PAYLOAD_SIZE);\n",
              "      const chunk = new Uint8Array(fileData, position, length);\n",
              "      position += length;\n",
              "\n",
              "      const base64 = btoa(String.fromCharCode.apply(null, chunk));\n",
              "      yield {\n",
              "        response: {\n",
              "          action: 'append',\n",
              "          file: file.name,\n",
              "          data: base64,\n",
              "        },\n",
              "      };\n",
              "\n",
              "      let percentDone = fileData.byteLength === 0 ?\n",
              "          100 :\n",
              "          Math.round((position / fileData.byteLength) * 100);\n",
              "      percent.textContent = `${percentDone}% done`;\n",
              "\n",
              "    } while (position < fileData.byteLength);\n",
              "  }\n",
              "\n",
              "  // All done.\n",
              "  yield {\n",
              "    response: {\n",
              "      action: 'complete',\n",
              "    }\n",
              "  };\n",
              "}\n",
              "\n",
              "scope.google = scope.google || {};\n",
              "scope.google.colab = scope.google.colab || {};\n",
              "scope.google.colab._files = {\n",
              "  _uploadFiles,\n",
              "  _uploadFilesContinue,\n",
              "};\n",
              "})(self);\n",
              "</script> "
            ],
            "text/plain": [
              "<IPython.core.display.HTML object>"
            ]
          },
          "metadata": {},
          "output_type": "display_data"
        },
        {
          "output_type": "stream",
          "name": "stdout",
          "text": [
            "Saving topic_detect_final.zip to topic_detect_final (3).zip\n",
            "Epoch 1/5\n",
            "63/63 [==============================] - 470s 7s/step - loss: 2.1092 - accuracy: 0.1681 - val_loss: 2.1087 - val_accuracy: 0.1679\n",
            "Epoch 2/5\n",
            "63/63 [==============================] - 464s 7s/step - loss: 2.1024 - accuracy: 0.1626 - val_loss: 2.1109 - val_accuracy: 0.1594\n",
            "Epoch 3/5\n",
            "63/63 [==============================] - 448s 7s/step - loss: 2.1013 - accuracy: 0.1654 - val_loss: 2.1084 - val_accuracy: 0.1594\n",
            "Epoch 4/5\n",
            "63/63 [==============================] - 458s 7s/step - loss: 2.1001 - accuracy: 0.1620 - val_loss: 2.1162 - val_accuracy: 0.1519\n",
            "Epoch 5/5\n",
            "63/63 [==============================] - 428s 7s/step - loss: 2.1020 - accuracy: 0.1590 - val_loss: 2.1117 - val_accuracy: 0.1594\n",
            "63/63 [==============================] - 22s 348ms/step - loss: 2.1117 - accuracy: 0.1594\n",
            "Test accuracy: 0.15942029654979706\n"
          ]
        }
      ]
    },
    {
      "cell_type": "code",
      "source": [
        "from sklearn.metrics import roc_auc_score\n",
        "\n",
        "# Calculating ROC AUC Score\n",
        "roc_auc = roc_auc_score(y_test, y_pred_proba, multi_class='ovr')\n",
        "print('ROC AUC Score:', roc_auc)\n"
      ],
      "metadata": {
        "colab": {
          "base_uri": "https://localhost:8080/"
        },
        "id": "eUuP3RbeUdxY",
        "outputId": "90e07ac0-ed4f-471d-9d8a-9ecfdc73b0b8"
      },
      "execution_count": 4,
      "outputs": [
        {
          "output_type": "stream",
          "name": "stdout",
          "text": [
            "ROC AUC Score: 0.49993614237469963\n"
          ]
        }
      ]
    },
    {
      "cell_type": "code",
      "source": [
        "# Generating predictions\n",
        "y_pred_proba = model.predict(X_test)\n",
        "y_pred = np.argmax(y_pred_proba, axis=1)\n",
        "\n",
        "# Calculating confusion matrix\n",
        "conf_matrix = confusion_matrix(y_test, y_pred)\n",
        "\n",
        "# Displaying confusion matrix\n",
        "plt.figure(figsize=(10, 8))\n",
        "sns.heatmap(conf_matrix, annot=True, fmt='d', cmap='Blues', xticklabels=label_encoder.classes_, yticklabels=label_encoder.classes_)\n",
        "plt.xlabel('Predicted labels')\n",
        "plt.ylabel('True labels')\n",
        "plt.title('Confusion Matrix')\n",
        "plt.show()\n"
      ],
      "metadata": {
        "colab": {
          "base_uri": "https://localhost:8080/",
          "height": 822
        },
        "id": "GmWzBK5PVXlp",
        "outputId": "e4bae60e-07e2-433b-a716-aff19fc7f018"
      },
      "execution_count": 11,
      "outputs": [
        {
          "output_type": "stream",
          "name": "stdout",
          "text": [
            "63/63 [==============================] - 22s 340ms/step\n"
          ]
        },
        {
          "output_type": "display_data",
          "data": {
            "text/plain": [
              "<Figure size 1000x800 with 2 Axes>"
            ],
            "image/png": "[encoded data removed]"
          },
          "metadata": {}
        }
      ]
    },
    {
      "cell_type": "code",
      "source": [],
      "metadata": {
        "id": "mEr4uE-FWkuI"
      },
      "execution_count": null,
      "outputs": []
    }
  ]
}