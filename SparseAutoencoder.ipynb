{
  "nbformat": 4,
  "nbformat_minor": 0,
  "metadata": {
    "colab": {
      "provenance": [],
      "mount_file_id": "1pYvKa04N1aUyVYrIUz1kjs57mxEN-FAo",
      "authorship_tag": "ABX9TyNHay5fTTA/9mTwU494fJNp",
      "include_colab_link": true
    },
    "kernelspec": {
      "name": "python3",
      "display_name": "Python 3"
    },
    "language_info": {
      "name": "python"
    }
  },
  "cells": [
    {
      "cell_type": "markdown",
      "metadata": {
        "id": "view-in-github",
        "colab_type": "text"
      },
      "source": [
        "<a href=\"https://colab.research.google.com/github/SukhBhagsar/SukhBhagsar/blob/main/SparseAutoencoder.ipynb\" target=\"_parent\"><img src=\"https://colab.research.google.com/assets/colab-badge.svg\" alt=\"Open In Colab\"/></a>"
      ]
    },
    {
      "cell_type": "code",
      "source": [
        "# loading necessary libraries\n",
        "import os\n",
        "import numpy as np\n",
        "from tensorflow.keras.preprocessing.image import load_img, img_to_array\n",
        "from sklearn.model_selection import train_test_split\n",
        "import tensorflow as tf\n",
        "from tensorflow.keras.layers import Input, Dense\n",
        "from tensorflow.keras.models import Model\n",
        "from tensorflow.keras import regularizers\n",
        "from skimage import io\n"
      ],
      "metadata": {
        "id": "RYJJ39CMLd4W"
      },
      "execution_count": 17,
      "outputs": []
    },
    {
      "cell_type": "code",
      "source": [
        "# loading dataset\n",
        "import zipfile\n",
        "\n",
        "with zipfile.ZipFile('/content/facedetectionDS.zip', 'r') as zip_ref:\n",
        "    zip_ref.extractall('extracted_dataset/')"
      ],
      "metadata": {
        "id": "d-J7u9PHT4hl"
      },
      "execution_count": 4,
      "outputs": []
    },
    {
      "cell_type": "code",
      "source": [
        "# loading images from directories\n",
        "def load_images(folder):\n",
        "    images = []\n",
        "    for filename in os.listdir(folder):\n",
        "        img = load_img(os.path.join(folder, filename), color_mode=\"grayscale\", target_size=(64, 64))\n",
        "        img_array = img_to_array(img)\n",
        "        images.append(img_array)\n",
        "    return np.array(images)\n",
        "\n",
        "# Loading images from the given datset\n",
        "faces_data = '/content/extracted_dataset/facedetectionDS/faces'\n",
        "non_faces_data = '/content/extracted_dataset/facedetectionDS/notfaces'\n",
        "\n",
        "# Loading and preprocessing images\n",
        "faces_data = load_images(faces_data)\n",
        "non_faces_data = load_images(non_faces_data)\n",
        "\n",
        "# Combining face and non-face data\n",
        "X = np.concatenate((faces_data, non_faces_data), axis=0)\n",
        "\n",
        "# Normalizing  pixel values  between 0 and 1\n",
        "X = X.astype('float32') / 255.\n",
        "\n",
        "# Flattening image data  into vectors\n",
        "X = X.reshape((len(X), np.prod(X.shape[1:])))\n",
        "\n",
        "# Creating labels for faces (1) and non-faces (0)\n",
        "y_faces = np.ones(len(faces_data))\n",
        "y_non_faces = np.zeros(len(non_faces_data))\n",
        "\n",
        "# Combining label\n",
        "y = np.concatenate((y_faces, y_non_faces), axis=0)\n",
        "\n",
        "# Spliting data into training and testing sets\n",
        "X_train, X_test, y_train, y_test = train_test_split(X, y, test_size=0.2, random_state=42)\n",
        "\n",
        "\n",
        "print(\"Training set dimensions:\", X_train.shape)\n",
        "print(\"Testing set dimensions:\", X_test.shape)\n",
        "print(\"Training labels dimensions:\", y_train.shape)\n",
        "print(\"Testing labels dimensions:\", y_test.shape)\n"
      ],
      "metadata": {
        "colab": {
          "base_uri": "https://localhost:8080/"
        },
        "id": "_ekKU6tYjngJ",
        "outputId": "60883120-d44e-43a1-e104-72fde60531fd"
      },
      "execution_count": 5,
      "outputs": [
        {
          "output_type": "stream",
          "name": "stdout",
          "text": [
            "Training set dimensions: (5630, 4096)\n",
            "Testing set dimensions: (1408, 4096)\n",
            "Training labels dimensions: (5630,)\n",
            "Testing labels dimensions: (1408,)\n"
          ]
        }
      ]
    },
    {
      "cell_type": "code",
      "source": [
        "# Creating Sparse Autoencoder Model\n",
        "def sparse_autoencoder(input_shape, encoding_dim, sparsity_regularizer):\n",
        "    input_image = Input(shape=input_shape)\n",
        "    encoded = Dense(encoding_dim, activation='relu',\n",
        "                    activity_regularizer=regularizers.l1(sparsity_regularizer))(input_image)\n",
        "    decoded = Dense(input_shape[0], activation='sigmoid')(encoded)\n",
        "    autoencoder = Model(input_image, decoded)\n",
        "    return autoencoder\n",
        "input_shape = (4096,)\n",
        "encoding_dim = 32\n",
        "sparsity_regularizer = 0.01\n",
        "\n",
        "autoencoder = sparse_autoencoder(input_shape, encoding_dim, sparsity_regularizer)\n",
        "# Model summary\n",
        "autoencoder.summary()\n"
      ],
      "metadata": {
        "colab": {
          "base_uri": "https://localhost:8080/"
        },
        "id": "GAwTvSOUkCMu",
        "outputId": "25af44ac-6167-41f0-cf3a-3255447d710d"
      },
      "execution_count": 10,
      "outputs": [
        {
          "output_type": "stream",
          "name": "stdout",
          "text": [
            "Model: \"model_2\"\n",
            "_________________________________________________________________\n",
            " Layer (type)                Output Shape              Param #   \n",
            "=================================================================\n",
            " input_3 (InputLayer)        [(None, 4096)]            0         \n",
            "                                                                 \n",
            " dense_4 (Dense)             (None, 32)                131104    \n",
            "                                                                 \n",
            " dense_5 (Dense)             (None, 4096)              135168    \n",
            "                                                                 \n",
            "=================================================================\n",
            "Total params: 266272 (1.02 MB)\n",
            "Trainable params: 266272 (1.02 MB)\n",
            "Non-trainable params: 0 (0.00 Byte)\n",
            "_________________________________________________________________\n"
          ]
        }
      ]
    },
    {
      "cell_type": "code",
      "source": [
        "# Performing preprocessing images from directories\n",
        "def image_preprocessing(folder, label):\n",
        "    images = []\n",
        "    labels = []\n",
        "    for filename in os.listdir(folder):\n",
        "        image = io.imread(os.path.join(folder, filename))\n",
        "        image = preprocess_image(image)\n",
        "        images.append(image)\n",
        "        labels.append(label)\n",
        "    return images, labels\n",
        "\n",
        "def preprocess_image(image):\n",
        "    # Example: Resize image to (64, 64) and normalize pixel values\n",
        "    image = resize_image(image, target_size=(64, 64))\n",
        "    image = image / 255.0  # Normalize pixel values\n",
        "    return image\n",
        "\n",
        "# Resizing image\n",
        "def resize_image(image, target_size):\n",
        "    # Example: using scikit-image resize function\n",
        "    from skimage.transform import resize\n",
        "    return resize(image, target_size)\n",
        "\n",
        "faces_folder = '/content/extracted_dataset/facedetectionDS/faces'\n",
        "non_faces_folder = '/content/extracted_dataset/facedetectionDS/notfaces'\n",
        "\n",
        "# preprocessing images from both folders\n",
        "faces_images, faces_labels = image_preprocessing(faces_folder, label=1)\n",
        "non_faces_images, non_faces_labels = image_preprocessing(non_faces_folder, label=0)\n",
        "\n",
        "# Combine images and labels from both folders\n",
        "X = np.concatenate((faces_images, non_faces_images), axis=0)\n",
        "y = np.concatenate((faces_labels, non_faces_labels), axis=0)\n",
        "\n",
        "# Split the data into training and testing sets\n",
        "X_train, X_test, y_train, y_test = train_test_split(X, y, test_size=0.2, random_state=42)\n",
        "\n",
        "# Print shapes of training and testing sets\n",
        "print(\"Training set shape:\", X_train.shape)\n",
        "print(\"Testing set shape:\", X_test.shape)\n"
      ],
      "metadata": {
        "colab": {
          "base_uri": "https://localhost:8080/"
        },
        "id": "tghxjTMep8oS",
        "outputId": "4900ef23-4f3b-485c-8f90-a75128b6ee93"
      },
      "execution_count": 18,
      "outputs": [
        {
          "output_type": "stream",
          "name": "stdout",
          "text": [
            "Training set shape: (5630, 64, 64, 3)\n",
            "Testing set shape: (1408, 64, 64, 3)\n"
          ]
        }
      ]
    },
    {
      "cell_type": "code",
      "source": [
        "# Creating Sparse Autoencoder model\n",
        "def sparse_autoencoder(input_shape, encoding_dim):\n",
        "    input_img = Input(shape=input_shape)\n",
        "    encoded = Dense(encoding_dim, activation='relu', activity_regularizer=tf.keras.regularizers.l1(10e-5))(input_img)\n",
        "    decoded = Dense(3, activation='sigmoid')(encoded)\n",
        "    autoencoder = Model(input_img, decoded)\n",
        "    return autoencoder\n",
        "\n",
        "#  input shape and encoding dimension\n",
        "input_shape = (64, 64, 3)\n",
        "encoding_dim = 32\n",
        "\n",
        "# Creating Sparse Autoencoder model\n",
        "autoencoder = sparse_autoencoder(input_shape, encoding_dim)\n",
        "\n",
        "# Compiling model\n",
        "autoencoder.compile(optimizer='adam', loss='binary_crossentropy')\n",
        "\n",
        "# Model summary\n",
        "autoencoder.summary()\n",
        "\n",
        "# Training model\n",
        "autoencoder.fit(X_train, X_train,\n",
        "                epochs=5,\n",
        "                batch_size=128,\n",
        "                shuffle=True,\n",
        "                validation_data=(X_test, X_test))\n",
        "\n",
        "# Model Evaluation\n",
        "loss = autoencoder.evaluate(X_test, X_test)\n",
        "print(\"Test Loss:\", loss)\n"
      ],
      "metadata": {
        "colab": {
          "base_uri": "https://localhost:8080/"
        },
        "id": "BBAkW-rErPzF",
        "outputId": "b2fee47e-87bc-49e3-9ff9-7d89cb5cdde7"
      },
      "execution_count": 19,
      "outputs": [
        {
          "output_type": "stream",
          "name": "stdout",
          "text": [
            "Model: \"model_3\"\n",
            "_________________________________________________________________\n",
            " Layer (type)                Output Shape              Param #   \n",
            "=================================================================\n",
            " input_4 (InputLayer)        [(None, 64, 64, 3)]       0         \n",
            "                                                                 \n",
            " dense_6 (Dense)             (None, 64, 64, 32)        128       \n",
            "                                                                 \n",
            " dense_7 (Dense)             (None, 64, 64, 3)         99        \n",
            "                                                                 \n",
            "=================================================================\n",
            "Total params: 227 (908.00 Byte)\n",
            "Trainable params: 227 (908.00 Byte)\n",
            "Non-trainable params: 0 (0.00 Byte)\n",
            "_________________________________________________________________\n",
            "Epoch 1/5\n",
            "44/44 [==============================] - 21s 450ms/step - loss: 0.6826 - val_loss: 0.6715\n",
            "Epoch 2/5\n",
            "44/44 [==============================] - 19s 437ms/step - loss: 0.6612 - val_loss: 0.6505\n",
            "Epoch 3/5\n",
            "44/44 [==============================] - 24s 554ms/step - loss: 0.6406 - val_loss: 0.6303\n",
            "Epoch 4/5\n",
            "44/44 [==============================] - 20s 468ms/step - loss: 0.6206 - val_loss: 0.6107\n",
            "Epoch 5/5\n",
            "44/44 [==============================] - 19s 418ms/step - loss: 0.6013 - val_loss: 0.5917\n",
            "44/44 [==============================] - 2s 25ms/step - loss: 0.5917\n",
            "Test Loss: 0.5917243361473083\n"
          ]
        }
      ]
    },
    {
      "cell_type": "code",
      "source": [
        "# Extracting encoder and decoder from the autoencoder model\n",
        "encoder_model = Model(inputs=autoencoder.input, outputs=autoencoder.get_layer('dense_6').output)\n",
        "decoder_model = Model(inputs=autoencoder.get_layer('dense_7').input, outputs=autoencoder.output)\n",
        "\n",
        "# Encoding images\n",
        "encoded_images = encoder_model.predict(X_test)\n",
        "\n",
        "# Decoding encoded images to generate reconstructed images\n",
        "reconstructed_images = decoder_model.predict(encoded_images)\n"
      ],
      "metadata": {
        "colab": {
          "base_uri": "https://localhost:8080/"
        },
        "id": "zp_0-cGEYl9S",
        "outputId": "4d41fd76-9b57-40aa-9077-cfda5583796a"
      },
      "execution_count": 22,
      "outputs": [
        {
          "output_type": "stream",
          "name": "stdout",
          "text": [
            "44/44 [==============================] - 1s 18ms/step\n",
            "44/44 [==============================] - 1s 11ms/step\n"
          ]
        }
      ]
    },
    {
      "cell_type": "code",
      "source": [
        "import matplotlib.pyplot as plt\n",
        "\n",
        "image_no = 5\n",
        "plt.figure(figsize=(20, 4))\n",
        "for i in range(image_no):\n",
        "    # Displaying Actual images\n",
        "    ax = plt.subplot(2, image_no, i + 1)\n",
        "    plt.imshow(X_test[i].reshape(64, 64, 3))\n",
        "    plt.gray()\n",
        "    ax.get_xaxis().set_visible(False)\n",
        "    ax.get_yaxis().set_visible(False)\n",
        "    ax.set_title(\"Actual\")\n",
        "\n",
        "    # Displaying reconstructed images or generated faces\n",
        "    ax = plt.subplot(2, image_no, i + 1 + image_no)\n",
        "    plt.imshow(reconstructed_images[i].reshape(64, 64, 3))\n",
        "    plt.gray()\n",
        "    ax.get_xaxis().set_visible(False)\n",
        "    ax.get_yaxis().set_visible(False)\n",
        "    ax.set_title(\"Generated Face\")\n",
        "plt.show()\n"
      ],
      "metadata": {
        "colab": {
          "base_uri": "https://localhost:8080/",
          "height": 336
        },
        "id": "t0sDg5jDZc3V",
        "outputId": "9ae8d4f9-db17-4799-aadb-c306c040a67b"
      },
      "execution_count": 24,
      "outputs": [
        {
          "output_type": "display_data",
          "data": {
            "text/plain": [
              "<Figure size 2000x400 with 10 Axes>"
            ],
            "image/png": "[encoded data removed]"
          },
          "metadata": {}
        }
      ]
    },
    {
      "cell_type": "code",
      "source": [
        "from sklearn.metrics import mean_squared_error\n",
        "\n",
        "# Reshaping original and reconstructed images for compatibility with MSE\n",
        "X_test_reshaped = X_test.reshape(-1, 64*64*3)\n",
        "reconstructed_images_reshaped = reconstructed_images.reshape(-1, 64*64*3)\n",
        "\n",
        "# Calculating MSE\n",
        "mse_loss = mean_squared_error(X_test_reshaped, reconstructed_images_reshaped)\n",
        "print(\"Mean Squared Error Loss:\", mse_loss)\n"
      ],
      "metadata": {
        "colab": {
          "base_uri": "https://localhost:8080/"
        },
        "id": "c23Hx69YZ0J5",
        "outputId": "29cc27fb-e3ee-4d55-8042-97269f21b62b"
      },
      "execution_count": 25,
      "outputs": [
        {
          "output_type": "stream",
          "name": "stdout",
          "text": [
            "Mean Squared Error Loss: 0.1982024439756739\n"
          ]
        }
      ]
    }
  ]
}